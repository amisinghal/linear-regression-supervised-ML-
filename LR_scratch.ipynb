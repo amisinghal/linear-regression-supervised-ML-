{
  "nbformat": 4,
  "nbformat_minor": 0,
  "metadata": {
    "colab": {
      "name": "LR scratch",
      "provenance": [],
      "mount_file_id": "19oGlYp0zoTiRszl64ku7zgOVZRN5zLJ7",
      "authorship_tag": "ABX9TyOpyjo/wh+LkjMbU3Fk1RBu",
      "include_colab_link": true
    },
    "kernelspec": {
      "name": "python3",
      "display_name": "Python 3"
    }
  },
  "cells": [
    {
      "cell_type": "markdown",
      "metadata": {
        "id": "view-in-github",
        "colab_type": "text"
      },
      "source": [
        "<a href=\"https://colab.research.google.com/github/amisinghal/linear-regression-supervised-ML-/blob/master/LR_scratch.ipynb\" target=\"_parent\"><img src=\"https://colab.research.google.com/assets/colab-badge.svg\" alt=\"Open In Colab\"/></a>"
      ]
    },
    {
      "cell_type": "code",
      "metadata": {
        "id": "RR1Hpru5GIXG",
        "colab": {
          "base_uri": "https://localhost:8080/",
          "height": 212
        },
        "outputId": "20790c40-4dab-4896-e0c9-9eef65b37a3d"
      },
      "source": [
        "import numpy as np # to ease the calculation part\n",
        "import matplotlib.pyplot as plt #to plot the data\n",
        "import pandas as pd #to work with dataframes\n",
        "#importing and printing dataset\n",
        "dataset= pd.read_csv('/content/drive/My Drive/salary_data (1).csv')\n",
        "print(dataset.shape)\n",
        "dataset.head() #gives the idea of dataset"
      ],
      "execution_count": 2,
      "outputs": [
        {
          "output_type": "stream",
          "text": [
            "(30, 2)\n"
          ],
          "name": "stdout"
        },
        {
          "output_type": "execute_result",
          "data": {
            "text/html": [
              "<div>\n",
              "<style scoped>\n",
              "    .dataframe tbody tr th:only-of-type {\n",
              "        vertical-align: middle;\n",
              "    }\n",
              "\n",
              "    .dataframe tbody tr th {\n",
              "        vertical-align: top;\n",
              "    }\n",
              "\n",
              "    .dataframe thead th {\n",
              "        text-align: right;\n",
              "    }\n",
              "</style>\n",
              "<table border=\"1\" class=\"dataframe\">\n",
              "  <thead>\n",
              "    <tr style=\"text-align: right;\">\n",
              "      <th></th>\n",
              "      <th>YearsExperience</th>\n",
              "      <th>Salary</th>\n",
              "    </tr>\n",
              "  </thead>\n",
              "  <tbody>\n",
              "    <tr>\n",
              "      <th>0</th>\n",
              "      <td>1.1</td>\n",
              "      <td>39343</td>\n",
              "    </tr>\n",
              "    <tr>\n",
              "      <th>1</th>\n",
              "      <td>1.3</td>\n",
              "      <td>46205</td>\n",
              "    </tr>\n",
              "    <tr>\n",
              "      <th>2</th>\n",
              "      <td>1.5</td>\n",
              "      <td>37731</td>\n",
              "    </tr>\n",
              "    <tr>\n",
              "      <th>3</th>\n",
              "      <td>2.0</td>\n",
              "      <td>43525</td>\n",
              "    </tr>\n",
              "    <tr>\n",
              "      <th>4</th>\n",
              "      <td>2.2</td>\n",
              "      <td>39891</td>\n",
              "    </tr>\n",
              "  </tbody>\n",
              "</table>\n",
              "</div>"
            ],
            "text/plain": [
              "   YearsExperience  Salary\n",
              "0              1.1   39343\n",
              "1              1.3   46205\n",
              "2              1.5   37731\n",
              "3              2.0   43525\n",
              "4              2.2   39891"
            ]
          },
          "metadata": {
            "tags": []
          },
          "execution_count": 2
        }
      ]
    },
    {
      "cell_type": "code",
      "metadata": {
        "id": "rhAnrSEl4J5O",
        "colab": {
          "base_uri": "https://localhost:8080/"
        },
        "outputId": "0b8970e3-e1a6-4254-b427-8cba6d450ea7"
      },
      "source": [
        "#collecting values in X and Y\n",
        "X= dataset['YearsExperience'].values\n",
        "Y= dataset['Salary'].values\n",
        "print(X, Y)\n"
      ],
      "execution_count": 3,
      "outputs": [
        {
          "output_type": "stream",
          "text": [
            "[ 1.1  1.3  1.5  2.   2.2  2.9  3.   3.2  3.2  3.7  3.9  4.   4.   4.1\n",
            "  4.5  4.9  5.1  5.3  5.9  6.   6.8  7.1  7.9  8.2  8.7  9.   9.5  9.6\n",
            " 10.3 10.5] [ 39343  46205  37731  43525  39891  56642  60150  54445  64445  57189\n",
            "  63218  55794  56957  57081  61111  67938  66029  83088  81363  93940\n",
            "  91738  98273 101302 113812 109431 105582 116969 112635 122391 121872]\n"
          ],
          "name": "stdout"
        }
      ]
    },
    {
      "cell_type": "code",
      "metadata": {
        "id": "lU7V44df4blG",
        "colab": {
          "base_uri": "https://localhost:8080/"
        },
        "outputId": "a73080ec-6dd2-4b16-d29b-85b6c27d6e1e"
      },
      "source": [
        "#calculating mean of X and Y\n",
        "mean_x= np.mean(X)\n",
        "mean_y= np.mean(Y)\n",
        "#total number of values in dataset\n",
        "n= len(X)\n",
        "print(n)\n"
      ],
      "execution_count": 4,
      "outputs": [
        {
          "output_type": "stream",
          "text": [
            "30\n"
          ],
          "name": "stdout"
        }
      ]
    },
    {
      "cell_type": "code",
      "metadata": {
        "id": "YWPxrOgd5ZkF",
        "colab": {
          "base_uri": "https://localhost:8080/"
        },
        "outputId": "2c78cc1c-6cbb-4f7a-d71b-2e26d76ddf7a"
      },
      "source": [
        "#using the formula\n",
        "numer = 0\n",
        "denom = 0\n",
        "for i in range(n):\n",
        "    numer += (X[i] - mean_x) * (Y[i] - mean_y)\n",
        "    denom += (X[i] - mean_x) ** 2\n",
        "m= numer/denom\n",
        "c= mean_y- (m*mean_x)\n",
        "y_pred= (m*X) + c\n",
        "print(y_pred)\n"
      ],
      "execution_count": 5,
      "outputs": [
        {
          "output_type": "stream",
          "text": [
            "[ 36187.15875227  38077.15121656  39967.14368085  44692.12484158\n",
            "  46582.11730587  53197.09093089  54142.08716303  56032.07962732\n",
            "  56032.07962732  60757.06078805  62647.05325234  63592.04948449\n",
            "  63592.04948449  64537.04571663  68317.03064522  72097.0155738\n",
            "  73987.00803809  75877.00050238  81546.97789525  82491.9741274\n",
            "  90051.94398456  92886.932681   100446.90253816 103281.8912346\n",
            " 108006.87239533 110841.86109176 115566.84225249 116511.83848464\n",
            " 123126.81210966 125016.80457395]\n"
          ],
          "name": "stdout"
        }
      ]
    },
    {
      "cell_type": "code",
      "metadata": {
        "id": "jwSWGNl-6X-G",
        "colab": {
          "base_uri": "https://localhost:8080/",
          "height": 295
        },
        "outputId": "6db9b98c-8d23-4faa-990e-bf67755a161b"
      },
      "source": [
        "#visualing the dataset\n",
        "plt.figure()\n",
        "plt.scatter(X, Y, color='red')\n",
        "plt.plot(X, y_pred, color='black')\n",
        "plt.title('salary vs experience')\n",
        "plt.xlabel('years of experience')\n",
        "plt.ylabel('salary')\n",
        "plt.show()\n"
      ],
      "execution_count": 6,
      "outputs": [
        {
          "output_type": "display_data",
          "data": {
            "image/png": "[encoded data removed]",
            "text/plain": [
              "<Figure size 432x288 with 1 Axes>"
            ]
          },
          "metadata": {
            "tags": [],
            "needs_background": "light"
          }
        }
      ]
    },
    {
      "cell_type": "code",
      "metadata": {
        "id": "UnTW76gXH7hj",
        "colab": {
          "base_uri": "https://localhost:8080/"
        },
        "outputId": "b5c73ae8-f3ea-4c00-d9d3-8f88ab3bb905"
      },
      "source": [
        "#user input\n",
        "i= input(\"years of experience:\")\n",
        "value= (int(m)*int(i)) +c\n",
        "print(value)\n",
        "\n"
      ],
      "execution_count": 7,
      "outputs": [
        {
          "output_type": "stream",
          "text": [
            "years of experience:5\n",
            "73037.2001986687\n"
          ],
          "name": "stdout"
        }
      ]
    },
    {
      "cell_type": "code",
      "metadata": {
        "id": "rDIonGPbNXBt",
        "colab": {
          "base_uri": "https://localhost:8080/"
        },
        "outputId": "1a757028-9b2c-4e19-9660-2db5ee3c06c1"
      },
      "source": [
        "#check the model accuracy\n",
        "SST=0\n",
        "SSR=0\n",
        "for i in range(n):\n",
        "  SST+= (Y[i]-mean_y)**2\n",
        "  SSR+= (Y[i]-y_pred[i])**2\n",
        "r= 1-(SSR/SST)\n",
        "print('this model is', (r*100), '% accurate')"
      ],
      "execution_count": 10,
      "outputs": [
        {
          "output_type": "stream",
          "text": [
            "this model is 95.69566641435085 % accurate\n"
          ],
          "name": "stdout"
        }
      ]
    },
    {
      "cell_type": "code",
      "metadata": {
        "id": "fZ88a4pwR7jJ",
        "colab": {
          "base_uri": "https://localhost:8080/"
        },
        "outputId": "66967734-0401-4d7d-87b5-60948587c0ca"
      },
      "source": [
        "#calculate the RMSE score\n",
        "for i in range(n):\n",
        "  rmse= (y_pred[i]- Y[i])**2\n",
        "rmse= np.sqrt((rmse/n))\n",
        "print(rmse)"
      ],
      "execution_count": 9,
      "outputs": [
        {
          "output_type": "stream",
          "text": [
            "574.1601346987337\n"
          ],
          "name": "stdout"
        }
      ]
    },
    {
      "cell_type": "markdown",
      "metadata": {
        "id": "nG9dIFYcwBzd"
      },
      "source": [
        ""
      ]
    }
  ]
}